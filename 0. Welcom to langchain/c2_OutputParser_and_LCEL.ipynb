{
 "cells": [
  {
   "cell_type": "code",
   "execution_count": 2,
   "metadata": {},
   "outputs": [],
   "source": [
    "from langchain_openai.chat_models import ChatOpenAI\n",
    "from langchain.prompts import ChatPromptTemplate\n",
    "\n",
    "chat = ChatOpenAI(\n",
    "\ttemperature=0.1\n",
    ")"
   ]
  },
  {
   "cell_type": "code",
   "execution_count": 5,
   "metadata": {},
   "outputs": [
    {
     "data": {
      "text/plain": [
       "['Hello', 'who', 'are', 'you']"
      ]
     },
     "execution_count": 5,
     "metadata": {},
     "output_type": "execute_result"
    }
   ],
   "source": [
    "from langchain_core.output_parsers import BaseOutputParser\n",
    "\n",
    "class CommaOutputParser(BaseOutputParser):\n",
    "\n",
    "\tdef parse(self, text):\n",
    "\t\titems = text.strip().split(\",\")\n",
    "\t\treturn list(map(str.strip, items))\n",
    "\t\n",
    "p = CommaOutputParser()\n",
    "\n",
    "p.parse(\"Hello, who, are, you\")"
   ]
  },
  {
   "cell_type": "code",
   "execution_count": 13,
   "metadata": {},
   "outputs": [
    {
     "data": {
      "text/plain": [
       "['eminem',\n",
       " 'drake',\n",
       " 'kendrick lamar',\n",
       " 'jay-z',\n",
       " 'nicki minaj',\n",
       " 'cardi b',\n",
       " 'travis scott',\n",
       " 'lil wayne',\n",
       " 'snoop dogg',\n",
       " 'kanye west']"
      ]
     },
     "execution_count": 13,
     "metadata": {},
     "output_type": "execute_result"
    }
   ],
   "source": [
    "template = ChatPromptTemplate.from_messages([\n",
    "\t(\"system\", \"You're a list generating machine, Everything you are asked will be answerd with a comma separated list of max {max_items} in lowercase. Do NOT reply with anything else.\"),\n",
    "\t(\"human\", \"{question}\")\n",
    "])\n",
    "\n",
    "prompt = template.format_messages(\n",
    "\tmax_items=10,\n",
    "\t# question=\"What are the planets?\"\n",
    "\tquestion=\"What are the rappers?\"\n",
    ")\n",
    "\n",
    "result = chat.predict_messages(prompt)\n",
    "\n",
    "p = CommaOutputParser()\n",
    "\n",
    "p.parse(result.content)"
   ]
  },
  {
   "cell_type": "code",
   "execution_count": 17,
   "metadata": {},
   "outputs": [
    {
     "data": {
      "text/plain": [
       "['eminem',\n",
       " 'drake',\n",
       " 'kendrick lamar',\n",
       " 'jay-z',\n",
       " 'travis scott',\n",
       " 'cardi b',\n",
       " 'nicki minaj',\n",
       " 'lil wayne',\n",
       " 'snoop dogg',\n",
       " 'kanye west']"
      ]
     },
     "execution_count": 17,
     "metadata": {},
     "output_type": "execute_result"
    }
   ],
   "source": [
    "chain = template | chat | CommaOutputParser()\n",
    "\n",
    "chain.invoke({\n",
    "\t\"max_items\" : 10,\n",
    "\t\"question\" : \"what are the rappers?\"\n",
    "})"
   ]
  }
 ],
 "metadata": {
  "kernelspec": {
   "display_name": "env",
   "language": "python",
   "name": "python3"
  },
  "language_info": {
   "codemirror_mode": {
    "name": "ipython",
    "version": 3
   },
   "file_extension": ".py",
   "mimetype": "text/x-python",
   "name": "python",
   "nbconvert_exporter": "python",
   "pygments_lexer": "ipython3",
   "version": "3.11.11"
  }
 },
 "nbformat": 4,
 "nbformat_minor": 2
}
